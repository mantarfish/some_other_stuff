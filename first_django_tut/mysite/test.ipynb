{
 "cells": [
  {
   "cell_type": "code",
   "execution_count": 1,
   "metadata": {
    "collapsed": true
   },
   "outputs": [],
   "source": [
    "from django.test.utils import setup_test_environment\n",
    "setup_test_environment()\n"
   ]
  },
  {
   "cell_type": "code",
   "execution_count": 2,
   "metadata": {
    "collapsed": true
   },
   "outputs": [],
   "source": [
    "from django.test import Client\n",
    "client = Client()"
   ]
  },
  {
   "cell_type": "code",
   "execution_count": 3,
   "metadata": {
    "collapsed": true
   },
   "outputs": [],
   "source": [
    "response = client.get('/polls')"
   ]
  },
  {
   "cell_type": "code",
   "execution_count": 4,
   "metadata": {},
   "outputs": [
    {
     "data": {
      "text/plain": [
       "<HttpResponsePermanentRedirect status_code=301, \"text/html; charset=utf-8\", url=\"/polls/\">"
      ]
     },
     "execution_count": 4,
     "metadata": {},
     "output_type": "execute_result"
    }
   ],
   "source": [
    "response"
   ]
  },
  {
   "cell_type": "code",
   "execution_count": 6,
   "metadata": {},
   "outputs": [],
   "source": [
    "from django.urls import reverse"
   ]
  },
  {
   "cell_type": "code",
   "execution_count": 7,
   "metadata": {
    "collapsed": true
   },
   "outputs": [],
   "source": [
    "response = client.get(reverse('polls:index'))"
   ]
  },
  {
   "cell_type": "code",
   "execution_count": 8,
   "metadata": {},
   "outputs": [
    {
     "data": {
      "text/plain": [
       "<TemplateResponse status_code=200, \"text/html; charset=utf-8\">"
      ]
     },
     "execution_count": 8,
     "metadata": {},
     "output_type": "execute_result"
    }
   ],
   "source": [
    "response"
   ]
  },
  {
   "cell_type": "code",
   "execution_count": 16,
   "metadata": {},
   "outputs": [
    {
     "name": "stdout",
     "output_type": "stream",
     "text": [
      "[{'True': True, 'False': False, 'None': None}, {'csrf_token': <SimpleLazyObject: <function csrf.<locals>._get_val at 0x7fe185375048>>, 'request': <WSGIRequest: GET '/polls/'>, 'user': <SimpleLazyObject: <function AuthenticationMiddleware.process_request.<locals>.<lambda> at 0x7fe1852faea0>>, 'perms': <django.contrib.auth.context_processors.PermWrapper object at 0x7fe185230358>, 'messages': <django.contrib.messages.storage.fallback.FallbackStorage object at 0x7fe18533e6d8>, 'DEFAULT_MESSAGE_LEVELS': {'DEBUG': 10, 'INFO': 20, 'SUCCESS': 25, 'WARNING': 30, 'ERROR': 40}}, {}, {'paginator': None, 'page_obj': None, 'is_paginated': False, 'object_list': <QuerySet [<Question: Question object>, <Question: Question object>, <Question: Question object>, <Question: Question object>, <Question: Question object>]>, 'questions': <QuerySet [<Question: Question object>, <Question: Question object>, <Question: Question object>, <Question: Question object>, <Question: Question object>]>, 'view': <polls.views.IndexView object at 0x7fe18533eac8>}] /n\n",
      "[{'True': True, 'False': False, 'None': None}, {'csrf_token': <SimpleLazyObject: <function csrf.<locals>._get_val at 0x7fe185375048>>, 'request': <WSGIRequest: GET '/polls/'>, 'user': <SimpleLazyObject: <function AuthenticationMiddleware.process_request.<locals>.<lambda> at 0x7fe1852faea0>>, 'perms': <django.contrib.auth.context_processors.PermWrapper object at 0x7fe185230358>, 'messages': <django.contrib.messages.storage.fallback.FallbackStorage object at 0x7fe18533e6d8>, 'DEFAULT_MESSAGE_LEVELS': {'DEBUG': 10, 'INFO': 20, 'SUCCESS': 25, 'WARNING': 30, 'ERROR': 40}}, {}, {'paginator': None, 'page_obj': None, 'is_paginated': False, 'object_list': <QuerySet [<Question: Question object>, <Question: Question object>, <Question: Question object>, <Question: Question object>, <Question: Question object>]>, 'questions': <QuerySet [<Question: Question object>, <Question: Question object>, <Question: Question object>, <Question: Question object>, <Question: Question object>]>, 'view': <polls.views.IndexView object at 0x7fe18533eac8>}] /n\n"
     ]
    }
   ],
   "source": [
    "for i in response.context:\n",
    "    print (i, '/n')"
   ]
  },
  {
   "cell_type": "code",
   "execution_count": null,
   "metadata": {
    "collapsed": true
   },
   "outputs": [],
   "source": []
  }
 ],
 "metadata": {
  "kernelspec": {
   "display_name": "Django Shell-Plus",
   "language": "python",
   "name": "django_extensions"
  },
  "language_info": {
   "codemirror_mode": {
    "name": "ipython",
    "version": 3
   },
   "file_extension": ".py",
   "mimetype": "text/x-python",
   "name": "python",
   "nbconvert_exporter": "python",
   "pygments_lexer": "ipython3",
   "version": "3.6.1"
  }
 },
 "nbformat": 4,
 "nbformat_minor": 2
}
